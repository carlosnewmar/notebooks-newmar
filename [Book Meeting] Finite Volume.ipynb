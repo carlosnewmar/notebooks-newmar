{
 "cells": [
  {
   "cell_type": "markdown",
   "metadata": {},
   "source": [
    "# Finite Volume"
   ]
  },
  {
   "cell_type": "markdown",
   "metadata": {},
   "source": [
    "## For the energy equation"
   ]
  },
  {
   "cell_type": "markdown",
   "metadata": {},
   "source": [
    "# $\n",
    "\\displaystyle \\frac{\\partial }{{\\partial x}}\\left( {k\\frac{{\\partial T}}{{\\partial x}}} \\right) + S = 0\n",
    "$"
   ]
  },
  {
   "cell_type": "markdown",
   "metadata": {},
   "source": [
    "Integrating in $x$\n",
    "\n",
    "## $\n",
    "\\displaystyle \\int_x^{} {\\frac{\\partial }{{\\partial x}}\\left( {k\\frac{{\\partial T}}{{\\partial x}}} \\right)dx}  + \\int_x^{} {Sdx}  = 0\n",
    "$\n",
    "\n",
    "## $\n",
    "\\displaystyle {\\left( {k\\frac{{\\partial T}}{{\\partial x}}} \\right)_e} - {\\left( {k\\frac{{\\partial T}}{{\\partial x}}} \\right)_w} + \\bar S\\Delta x = 0\n",
    "$"
   ]
  },
  {
   "cell_type": "markdown",
   "metadata": {},
   "source": [
    "Using the derivative aproximation by Taylor series,\n",
    "\n",
    "$\n",
    "\\begin{array}{l}\n",
    "\\displaystyle {\\left( {\\frac{{\\partial T}}{{\\partial x}}} \\right)_e} = \\frac{{{T_E} - {T_P}}}{{{{\\left( {\\delta x} \\right)}_e}}}\\\\\n",
    "\\displaystyle {\\left( {\\frac{{\\partial T}}{{\\partial x}}} \\right)_w} = \\frac{{{T_P} - {T_W}}}{{{{\\left( {\\delta x} \\right)}_w}}}\\\\\n",
    "\\end{array}\n",
    "$\n",
    "\n",
    "$\n",
    "\\displaystyle {k_e}\\frac{{{T_E} - {T_P}}}{{{{\\left( {\\delta x} \\right)}_e}}} - {k_w}\\frac{{{T_P} - {T_W}}}{{{{\\left( {\\delta x} \\right)}_w}}} + \\bar S\\Delta x = 0\n",
    "$"
   ]
  },
  {
   "cell_type": "markdown",
   "metadata": {},
   "source": [
    "Collecting terms,\n",
    "\n",
    "$\n",
    "\\displaystyle  {a_P}{T_P} = {a_E}{T_E} + {a_W}{T_W} + b\\\\\n",
    "$\n",
    "\n",
    "where\n",
    "\n",
    "\n",
    "$\n",
    "\\begin{array}{l}\n",
    "\\displaystyle {a_P} = \\frac{{{k_e}}}{{{{\\left( {\\delta x} \\right)}_e}}} + \\frac{{{k_w}}}{{{{\\left( {\\delta x} \\right)}_w}}}\\\\\n",
    "\\displaystyle {a_E} = \\frac{{{k_e}}}{{{{\\left( {\\delta x} \\right)}_e}}}\\\\\n",
    "\\displaystyle {a_W} = \\frac{{{k_w}}}{{{{\\left( {\\delta x} \\right)}_w}}}\\\\\n",
    "\\displaystyle b = \\bar S\\Delta x\n",
    "\\end{array}\n",
    "$"
   ]
  },
  {
   "cell_type": "markdown",
   "metadata": {},
   "source": [
    "## Boundary conditions:\n",
    "- Temperature (Dirichlet)\n",
    "- Heat flux (Neumann)\n",
    "- Heat transfer coefficient and the temperature surrounding (Robin or mixed)\n"
   ]
  },
  {
   "cell_type": "markdown",
   "metadata": {},
   "source": [
    "### Dirichlet\n",
    "### $\\displaystyle {\\left( {\\frac{{dT }}{{dx}}} \\right)_{x=0}} = \\frac{{{T_P} - {T_{x=0}}}}{{0.5 \\Delta x}}$\n",
    "\n",
    "### $\\displaystyle {\\left( {\\frac{{dT }}{{dx}}} \\right)_{x=L}} = \\frac{{{T_{x=L}} - {T_{P}}}}{{0.5 \\Delta x}}$\n",
    "\n",
    "For volume 0,\n",
    "\n",
    "$\n",
    "\\displaystyle {k_e}\\frac{{{T_E} - {T_P}}}{{{{\\left( {\\delta x} \\right)}_e}}} - {k_w}\\frac{{{T_P} - {T_{x=0}}}}{{{{0.5 \\left({\\delta x} \\right)_{P}}}}} + \\bar S\\Delta x = 0\n",
    "$\n",
    "\n",
    "For volume N-1,\n",
    "\n",
    "$\n",
    "\\displaystyle {k_e}\\frac{{{T_{x=L}} - {T_P}}}{{{{0.5 \\left( {\\delta x} \\right)}_P}}} - {k_w}\\frac{{{T_P} - {T_{W}}}}{{{{\\left({\\delta x} \\right)_{w}}}}} + \\bar S\\Delta x = 0\n",
    "$"
   ]
  },
  {
   "cell_type": "markdown",
   "metadata": {},
   "source": [
    "### Neumann\n",
    "\n",
    "### $\\displaystyle - k_w {\\left( {\\frac{{dT }}{{dx}}} \\right)_{x=0}} = {q''}_{x=0}$\n",
    "\n",
    "### $\\displaystyle - k_e {\\left( {\\frac{{dT }}{{dx}}} \\right)_{x=L}} = {q''}_{x=L}$\n",
    "\n",
    "For volume 0,\n",
    "\n",
    "$\n",
    "\\displaystyle {k_e}\\frac{{{T_E} - {T_P}}}{{{{\\left( {\\delta x} \\right)}_e}}} + {q''}_{x=0} + \\bar S\\Delta x = 0\n",
    "$\n",
    "\n",
    "For volume N-1,\n",
    "\n",
    "$\n",
    "\\displaystyle - {q''}_{x=L} - {k_w}\\frac{{{T_P} - {T_{W}}}}{{{{\\left({\\delta x} \\right)_{w}}}}} + \\bar S\\Delta x = 0\n",
    "$"
   ]
  },
  {
   "cell_type": "markdown",
   "metadata": {},
   "source": [
    "### Robin\n",
    "\n",
    "### $\\displaystyle - k_w {\\left( {\\frac{{dT }}{{dx}}} \\right)_{x=0}} = h \\left( T_\\infty - T_{x=0}\\right)$\n",
    "\n",
    "### $\\displaystyle - k_e {\\left( {\\frac{{dT }}{{dx}}} \\right)_{x=L}} = h \\left( T_\\infty - T_{x=L}\\right)$\n",
    "\n",
    "For volume 0,\n",
    "\n",
    "$\n",
    "\\displaystyle {k_e}\\frac{{{T_E} - {T_P}}}{{{{\\left( {\\delta x} \\right)}_e}}} - h \\left( T_\\infty - T_{P}\\right) + \\bar S\\Delta x = 0\n",
    "$\n",
    "\n",
    "For volume N-1,\n",
    "\n",
    "$\n",
    "\\displaystyle h \\left( T_\\infty - T_{P}\\right) - {k_w}\\frac{{{T_P} - {T_{W}}}}{{{{\\left({\\delta x} \\right)_{w}}}}} + \\bar S\\Delta x = 0\n",
    "$"
   ]
  },
  {
   "cell_type": "markdown",
   "metadata": {},
   "source": [
    "## Assuming a uniform grid ($\\Delta x = cte$), homogeneous media ($k = cte$) and 4 control volumes\n",
    "\n",
    "### - $T(x=0)=T_A$\n",
    "### - $T(x=L)=T_B$"
   ]
  },
  {
   "cell_type": "markdown",
   "metadata": {},
   "source": [
    "For all control volume,\n",
    "\n",
    "$\n",
    "\\displaystyle  {a_P}{T_P} = {a_E}{T_E} + {a_W}{T_W} + b\\\\\n",
    "$\n",
    "\n",
    "where\n",
    "\n",
    "\n",
    "$\n",
    "\\begin{array}{l}\n",
    "\\displaystyle {a_P} = \\frac{{{k_e}}}{{{{\\left( {\\delta x} \\right)}_e}}} + \\frac{{{k_w}}}{{{{\\left( {\\delta x} \\right)}_w}}}\\\\\n",
    "\\displaystyle {a_E} = \\frac{{{k_e}}}{{{{\\left( {\\delta x} \\right)}_e}}}\\\\\n",
    "\\displaystyle {a_W} = \\frac{{{k_w}}}{{{{\\left( {\\delta x} \\right)}_w}}}\\\\\n",
    "\\displaystyle b = \\bar S\\Delta x\n",
    "\\end{array}\n",
    "$\n",
    "\n",
    "where \n",
    "- volume $0$:\n",
    "\n",
    "    $\n",
    "    \\begin{array}{l}\n",
    "    \\displaystyle {a_P} = 3 \\frac{k}{\\Delta x}\\\\\n",
    "    \\displaystyle {a_E} = \\frac{k}{\\Delta x}\\\\\n",
    "    \\displaystyle {a_W} = 0\\\\\n",
    "    \\displaystyle b = 2 \\frac{k}{\\Delta x} T_A + \\bar S\\Delta x\n",
    "    \\end{array}\n",
    "    $\n",
    "\n",
    "- volume $1$ and $2$:\n",
    "\n",
    "    $\n",
    "    \\begin{array}{l}\n",
    "    \\displaystyle {a_P} = 2 \\frac{k}{\\Delta x}\\\\\n",
    "    \\displaystyle {a_E} = \\frac{k}{\\Delta x}\\\\\n",
    "    \\displaystyle {a_W} = \\frac{k}{\\Delta x}\\\\\n",
    "    \\displaystyle b = \\bar S\\Delta x\n",
    "    \\end{array}\n",
    "    $\n",
    "\n",
    "- volume $3$:\n",
    "\n",
    "    $\n",
    "    \\begin{array}{l}\n",
    "    \\displaystyle {a_P} = 3 \\frac{k}{\\Delta x}\\\\\n",
    "    \\displaystyle {a_E} = 0\\\\\n",
    "    \\displaystyle {a_W} = \\frac{k}{\\Delta x}\\\\\n",
    "    \\displaystyle b = 2 \\frac{k}{\\Delta x} T_B + \\bar S\\Delta x\n",
    "    \\end{array}\n",
    "    $"
   ]
  },
  {
   "cell_type": "markdown",
   "metadata": {},
   "source": [
    "writing as a linear system $A x = b$"
   ]
  },
  {
   "cell_type": "markdown",
   "metadata": {},
   "source": [
    "$\n",
    "\\left[ {\\begin{array}{*{20}{c}}\n",
    "a_{P,0}&-a_{E,0}&0&0\\\\\n",
    "-a_{W,1}&a_{P,1}&-a_{E,1}&0\\\\\n",
    "0&-a_{W,2}&a_{P,2}&-a_{E,2}\\\\\n",
    "0&0&-a_{W,3}&a_{P,3}\n",
    "\\end{array}} \\right]\\left\\{ {\\begin{array}{*{20}{c}}\n",
    "{{T_0}}\\\\\n",
    "{{T_1}}\\\\\n",
    "{{T_2}}\\\\\n",
    "{{T_3}}\n",
    "\\end{array}} \\right\\} = \\left\\{ {\\begin{array}{*{20}{c}}\n",
    "b_0\\\\\n",
    "b_1\\\\\n",
    "b_2\\\\\n",
    "b_3\n",
    "\\end{array}} \\right\\}\n",
    "$"
   ]
  },
  {
   "cell_type": "code",
   "execution_count": 1,
   "metadata": {},
   "outputs": [],
   "source": [
    "import matplotlib.pyplot as plt\n",
    "import numpy as np"
   ]
  },
  {
   "cell_type": "code",
   "execution_count": 2,
   "metadata": {},
   "outputs": [
    {
     "data": {
      "image/png": "[encoded data removed]",
      "text/plain": [
       "<matplotlib.figure.Figure at 0x281a4083f28>"
      ]
     },
     "metadata": {
      "needs_background": "light"
     },
     "output_type": "display_data"
    }
   ],
   "source": [
    "N = 10\n",
    "L = 10.\n",
    "T0 = 100.\n",
    "T1 = 20.\n",
    "x_array = np.linspace(0., 1, N) * L\n",
    "A = (T1 - T0) / L\n",
    "B = T0\n",
    "analytical_solution = A * x_array + B\n",
    "plt.plot(x_array, analytical_solution, color='black')\n",
    "\n",
    "from finite_volume import FiniteVolume\n",
    "for size in [4, 10, 20, 50, 100, 200]:\n",
    "    num_method = FiniteVolume(size)\n",
    "    num_method.AssemblyLinearSystem()\n",
    "    temp = num_method.Solve()\n",
    "    plt.scatter(num_method._x, temp, label=str(size))\n",
    "plt.legend()\n",
    "plt.show()"
   ]
  },
  {
   "cell_type": "code",
   "execution_count": 3,
   "metadata": {},
   "outputs": [
    {
     "data": {
      "image/png": "[encoded data removed]",
      "text/plain": [
       "<matplotlib.figure.Figure at 0x281a4135630>"
      ]
     },
     "metadata": {
      "needs_background": "light"
     },
     "output_type": "display_data"
    }
   ],
   "source": [
    "source_term = lambda x : 2. + 0. * x\n",
    "A = -1.\n",
    "B = (T1 - T0) / L + L\n",
    "C = T0\n",
    "analytical_solution = A * x_array * x_array + B * x_array + C\n",
    "\n",
    "plt.plot(x_array, analytical_solution, color='black')\n",
    "\n",
    "for size in [4, 10, 20]:\n",
    "    num_method = FiniteVolume(size, source_term_function=source_term)\n",
    "    num_method.AssemblyLinearSystem()\n",
    "    temp = num_method.Solve()\n",
    "    plt.scatter(num_method._x, temp, label=str(num_method._delta_x))\n",
    "plt.legend()\n",
    "plt.show()"
   ]
  },
  {
   "cell_type": "code",
   "execution_count": 4,
   "metadata": {},
   "outputs": [
    {
     "data": {
      "image/png": "[encoded data removed]",
      "text/plain": [
       "<matplotlib.figure.Figure at 0x281a44e1400>"
      ]
     },
     "metadata": {
      "needs_background": "light"
     },
     "output_type": "display_data"
    }
   ],
   "source": [
    "source_term = lambda x : 2 * x\n",
    "A = - 1. / 3.\n",
    "B = 0.\n",
    "C = (T1 - T0) / L + L * L / 3.\n",
    "D = T0\n",
    "analytical_solution = A * x_array * x_array * x_array + B * x_array * x_array + C * x_array + D\n",
    "\n",
    "plt.plot(x_array, analytical_solution, color='black')\n",
    "\n",
    "for size in [4, 10, 20]:\n",
    "    num_method = FiniteVolume(size, source_term_function=source_term)\n",
    "    num_method.AssemblyLinearSystem()\n",
    "    temp = num_method.Solve()\n",
    "    plt.scatter(num_method._x, temp, label=str(num_method._delta_x))\n",
    "plt.legend()\n",
    "plt.show()"
   ]
  },
  {
   "cell_type": "code",
   "execution_count": 7,
   "metadata": {},
   "outputs": [
    {
     "data": {
      "image/png": "[encoded data removed]",
      "text/plain": [
       "<matplotlib.figure.Figure at 0x281a46fae10>"
      ]
     },
     "metadata": {
      "needs_background": "light"
     },
     "output_type": "display_data"
    }
   ],
   "source": [
    "N = 10\n",
    "L = 10.\n",
    "k = 1.\n",
    "q0 = 10.\n",
    "T1 = 20.\n",
    "x_array = np.linspace(0., 1, N) * L\n",
    "A = - q0 / k\n",
    "B = T1 + q0 * L / k\n",
    "analytical_solution = A * x_array + B\n",
    "plt.plot(x_array, analytical_solution, color='black')\n",
    "\n",
    "from finite_volume import FiniteVolume\n",
    "for size in [4, 10, 20, 50, 100, 200]:\n",
    "    num_method = FiniteVolume(\n",
    "        number_of_volumes=size,\n",
    "        left_boundary_condition=('Neumann', 10.),\n",
    "        right_boundary_condition=('Dirichlet', 20.),\n",
    "    )\n",
    "    num_method.AssemblyLinearSystem()\n",
    "    temp = num_method.Solve()\n",
    "    plt.scatter(num_method._x, temp, label=str(size))\n",
    "plt.legend()\n",
    "plt.show()"
   ]
  },
  {
   "cell_type": "code",
   "execution_count": 11,
   "metadata": {},
   "outputs": [
    {
     "data": {
      "image/png": "[encoded data removed]",
      "text/plain": [
       "<matplotlib.figure.Figure at 0x281a442fcf8>"
      ]
     },
     "metadata": {
      "needs_background": "light"
     },
     "output_type": "display_data"
    }
   ],
   "source": [
    "source_term = lambda x : 2. + 0. * x\n",
    "A = -1. / k\n",
    "B = - q0 / k\n",
    "C = T1 + L * L / k + q0 * L / k\n",
    "analytical_solution = A * x_array * x_array + B * x_array + C\n",
    "\n",
    "plt.plot(x_array, analytical_solution, color='black')\n",
    "\n",
    "for size in [4, 10, 20]:\n",
    "    num_method = FiniteVolume(\n",
    "        number_of_volumes=size,\n",
    "        left_boundary_condition=('Neumann', 10.),\n",
    "        right_boundary_condition=('Dirichlet', 20.),\n",
    "        source_term_function=source_term\n",
    "    )\n",
    "    num_method.AssemblyLinearSystem()\n",
    "    temp = num_method.Solve()\n",
    "    plt.scatter(num_method._x, temp, label=str(num_method._delta_x))\n",
    "plt.legend()\n",
    "plt.show()"
   ]
  },
  {
   "cell_type": "code",
   "execution_count": null,
   "metadata": {},
   "outputs": [],
   "source": []
  }
 ],
 "metadata": {
  "kernelspec": {
   "display_name": "Python 3",
   "language": "python",
   "name": "python3"
  },
  "language_info": {
   "codemirror_mode": {
    "name": "ipython",
    "version": 3
   },
   "file_extension": ".py",
   "mimetype": "text/x-python",
   "name": "python",
   "nbconvert_exporter": "python",
   "pygments_lexer": "ipython3",
   "version": "3.6.6"
  }
 },
 "nbformat": 4,
 "nbformat_minor": 2
}
