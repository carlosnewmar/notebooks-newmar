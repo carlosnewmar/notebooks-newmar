{
 "cells": [
  {
   "cell_type": "code",
   "execution_count": 46,
   "metadata": {},
   "outputs": [],
   "source": [
    "import numpy as np\n",
    "import matplotlib.pyplot as plt"
   ]
  },
  {
   "cell_type": "code",
   "execution_count": 47,
   "metadata": {},
   "outputs": [],
   "source": [
    "def compute_volume_removed(\n",
    "    wear_factor,\n",
    "    lateral_load,\n",
    "    rotary_speed,\n",
    "    time,\n",
    "    tool_joint_length,\n",
    "    drill_pipe_length,\n",
    "):\n",
    "    '''\n",
    "        :param: wear_factor (1e-10 1/psi)\n",
    "        :param: lateral_load (lbf/ft)\n",
    "        :param: tool_joint_diameter (in)\n",
    "        :param: rotary_speed (rpm)\n",
    "        :param: time (h)\n",
    "        :param: tool_joint_length (ft)\n",
    "        :param: drill_pipe_length (ft)\n",
    "        :return: removed volume (in3/ft)\n",
    "    '''\n",
    "    f = tool_joint_length / drill_pipe_length\n",
    "    work_function = lateral_load * np.pi * tool_joint_diameter * rotary_speed * 60. * time * f\n",
    "    WF = wear_factor * 1.e-10\n",
    "    volume = WF * work_function\n",
    "    return volume"
   ]
  },
  {
   "cell_type": "code",
   "execution_count": null,
   "metadata": {},
   "outputs": [],
   "source": []
  },
  {
   "cell_type": "code",
   "execution_count": 48,
   "metadata": {},
   "outputs": [],
   "source": [
    "def volume_by_thickness(h, r, R, log=False):\n",
    "    S = R - (r - h)\n",
    "    P = 0.5 * (R + r + S)\n",
    "    cos_alpha = (R * R + S * S - r * r) / (2. * R * S)\n",
    "    alpha = np.arccos(cos_alpha)\n",
    "    arc_tan_beta = (R * np.sin(alpha)) / (R * np.cos(alpha) - S)\n",
    "    beta = np.arctan(arc_tan_beta)\n",
    "    wv = 12. * (beta * r * r + 2. * np.sqrt(P * (P - R) * (P - r) * (P - S)) - alpha * R * R)\n",
    "    if log:\n",
    "        print('h = ', h)\n",
    "        print('r = ', r)\n",
    "        print('R = ', R)\n",
    "        print('S = ', S)\n",
    "        print('P = ', P)\n",
    "        print('cos_alpha = ', cos_alpha)\n",
    "        print('alpha = ', alpha)\n",
    "        print('arc_tan_beta = ', arc_tan_beta)\n",
    "        print('beta = ', beta)\n",
    "        print('wv = ', wv)\n",
    "    return wv"
   ]
  },
  {
   "cell_type": "code",
   "execution_count": 49,
   "metadata": {},
   "outputs": [],
   "source": [
    "lateral_load = 3000. # lbf/ft\n",
    "rotary_speed = 158. # rpm\n",
    "test_duration = 8. # h\n",
    "\n",
    "tool_joint_diameter = 6.35 # in\n",
    "tool_joint_length = 3.25 # in\n",
    "\n",
    "casing_od = 9. + 5./8. # in\n",
    "casing_id = 8.681 # in\n",
    "\n",
    "drill_pipe_length = 30. # ft\n",
    "\n",
    "time = np.arange(0.0, 8., 0.1)"
   ]
  },
  {
   "cell_type": "code",
   "execution_count": 50,
   "metadata": {},
   "outputs": [],
   "source": [
    "volume = compute_volume_removed(\n",
    "    wear_factor=5.50,\n",
    "    lateral_load=lateral_load,\n",
    "    rotary_speed=rotary_speed,\n",
    "    time=time,\n",
    "    tool_joint_length=tool_joint_length,\n",
    "    drill_pipe_length=drill_pipe_length,\n",
    ")"
   ]
  },
  {
   "cell_type": "code",
   "execution_count": 51,
   "metadata": {},
   "outputs": [
    {
     "data": {
      "image/png": "[encoded data removed]",
      "text/plain": [
       "<Figure size 432x288 with 1 Axes>"
      ]
     },
     "metadata": {
      "needs_background": "light"
     },
     "output_type": "display_data"
    }
   ],
   "source": [
    "plt.plot(time, volume)\n",
    "plt.show()"
   ]
  },
  {
   "cell_type": "code",
   "execution_count": 52,
   "metadata": {},
   "outputs": [
    {
     "data": {
      "text/plain": [
       "array([0.        , 0.00338048, 0.00676095, 0.01014143, 0.01352191,\n",
       "       0.01690239, 0.02028286, 0.02366334, 0.02704382, 0.03042429,\n",
       "       0.03380477, 0.03718525, 0.04056572, 0.0439462 , 0.04732668,\n",
       "       0.05070716, 0.05408763, 0.05746811, 0.06084859, 0.06422906,\n",
       "       0.06760954, 0.07099002, 0.07437049, 0.07775097, 0.08113145,\n",
       "       0.08451193, 0.0878924 , 0.09127288, 0.09465336, 0.09803383,\n",
       "       0.10141431, 0.10479479, 0.10817526, 0.11155574, 0.11493622,\n",
       "       0.1183167 , 0.12169717, 0.12507765, 0.12845813, 0.1318386 ,\n",
       "       0.13521908, 0.13859956, 0.14198003, 0.14536051, 0.14874099,\n",
       "       0.15212147, 0.15550194, 0.15888242, 0.1622629 , 0.16564337,\n",
       "       0.16902385, 0.17240433, 0.1757848 , 0.17916528, 0.18254576,\n",
       "       0.18592624, 0.18930671, 0.19268719, 0.19606767, 0.19944814,\n",
       "       0.20282862, 0.2062091 , 0.20958957, 0.21297005, 0.21635053,\n",
       "       0.21973101, 0.22311148, 0.22649196, 0.22987244, 0.23325291,\n",
       "       0.23663339, 0.24001387, 0.24339434, 0.24677482, 0.2501553 ,\n",
       "       0.25353578, 0.25691625, 0.26029673, 0.26367721, 0.26705768])"
      ]
     },
     "execution_count": 52,
     "metadata": {},
     "output_type": "execute_result"
    }
   ],
   "source": [
    "volume"
   ]
  },
  {
   "cell_type": "code",
   "execution_count": 58,
   "metadata": {},
   "outputs": [
    {
     "data": {
      "text/plain": [
       "0.4720000000000004"
      ]
     },
     "execution_count": 58,
     "metadata": {},
     "output_type": "execute_result"
    }
   ],
   "source": [
    "h_max = 0.5 * (casing_od - casing_id)\n",
    "h = np.arange(0., h_max, 0.001)\n",
    "v = volume_by_thickness(h, 0.5*tool_joint_diameter, 0.5*casing_id)\n",
    "h_max"
   ]
  },
  {
   "cell_type": "code",
   "execution_count": 59,
   "metadata": {},
   "outputs": [
    {
     "data": {
      "image/png": "[encoded data removed]",
      "text/plain": [
       "<Figure size 432x288 with 1 Axes>"
      ]
     },
     "metadata": {
      "needs_background": "light"
     },
     "output_type": "display_data"
    },
    {
     "data": {
      "text/plain": [
       "21.463987352410435"
      ]
     },
     "execution_count": 59,
     "metadata": {},
     "output_type": "execute_result"
    }
   ],
   "source": [
    "plt.plot(h, v)\n",
    "plt.show()\n",
    "v[-1]"
   ]
  },
  {
   "cell_type": "code",
   "execution_count": 60,
   "metadata": {},
   "outputs": [],
   "source": [
    "casing_wear_thickness = np.interp(volume, v, h)"
   ]
  },
  {
   "cell_type": "code",
   "execution_count": 61,
   "metadata": {},
   "outputs": [
    {
     "data": {
      "image/png": "[encoded data removed]",
      "text/plain": [
       "<Figure size 432x288 with 1 Axes>"
      ]
     },
     "metadata": {
      "needs_background": "light"
     },
     "output_type": "display_data"
    }
   ],
   "source": [
    "plt.plot(time, casing_wear_thickness)\n",
    "plt.show()"
   ]
  },
  {
   "cell_type": "code",
   "execution_count": null,
   "metadata": {},
   "outputs": [],
   "source": []
  }
 ],
 "metadata": {
  "kernelspec": {
   "display_name": "Python 3",
   "language": "python",
   "name": "python3"
  },
  "language_info": {
   "codemirror_mode": {
    "name": "ipython",
    "version": 3
   },
   "file_extension": ".py",
   "mimetype": "text/x-python",
   "name": "python",
   "nbconvert_exporter": "python",
   "pygments_lexer": "ipython3",
   "version": "3.6.7"
  }
 },
 "nbformat": 4,
 "nbformat_minor": 2
}
