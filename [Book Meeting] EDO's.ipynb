{
 "cells": [
  {
   "cell_type": "markdown",
   "metadata": {},
   "source": [
    "# Governing differential equations"
   ]
  },
  {
   "cell_type": "markdown",
   "metadata": {},
   "source": [
    "# $\n",
    "\\displaystyle \\frac{\\partial }{{\\partial t}}\\left( {\\rho \\phi } \\right) + \\frac{\\partial }{{\\partial {x_j}}}\\left( {\\rho {u_j}\\phi } \\right) = \\frac{\\partial }{{\\partial {x_j}}}\\left( {\\Gamma _j^\\phi \\frac{{\\partial \\phi }}{{\\partial {x_j}}}} \\right) + {S^\\phi }\n",
    "$"
   ]
  },
  {
   "cell_type": "markdown",
   "metadata": {},
   "source": [
    "| Equation | $\\phi$ | $\\Gamma^\\phi$ | $S^\\phi$ |\n",
    "| -- | -- | -- | -- |\n",
    "| Global Mass    | 1 | 0               | 0 |\n",
    "| Momentum x     | u | $\\mu$           | XXX |\n",
    "| Momentum y     | v | $\\mu$           | XXX |\n",
    "| Momentum z     | w | $\\mu$           | XXX |\n",
    "| Energy         | T | $\\frac{k}{c_p}$ | $\\frac{1}{{{c_p}}}\\frac{{DP}}{{Dt}} + \\frac{\\mu }{{{c_p}}}\\Phi$ |\n",
    "| Mass Component | C | $\\rho D$        | 0 |"
   ]
  },
  {
   "cell_type": "markdown",
   "metadata": {},
   "source": [
    "## Mass Balance\n",
    "$\\phi = 1$, $\\Gamma^\\phi = 0$, $S^\\phi = 0$\n",
    "\n",
    "# $\n",
    "\\displaystyle \\frac{\\partial \\rho }{{\\partial t}} + \\frac{\\partial }{{\\partial {x_j}}}\\left( {\\rho {u_j} } \\right) = 0\n",
    "$\n",
    "\n",
    "# $\n",
    "\\displaystyle \\frac{\\partial \\rho }{{\\partial t}} + \\frac{\\partial }{{\\partial {x}}}\\left( {\\rho {u} } \\right)\n",
    "+ \\frac{\\partial }{{\\partial {y}}}\\left( {\\rho {v} } \\right) + \\frac{\\partial }{{\\partial {z}}}\\left( {\\rho {w} } \\right)\n",
    "= 0\n",
    "$"
   ]
  },
  {
   "cell_type": "markdown",
   "metadata": {},
   "source": [
    "## Energy  Balance\n",
    "$\\phi = T$, $\\Gamma^\\phi = \\frac{k}{c_p}$, $ S^\\phi = \\frac{1}{{{c_p}}}\\frac{{DP}}{{Dt}} + \\frac{\\mu }{{{c_p}}}\\Phi $\n",
    "\n",
    "# $\n",
    "\\displaystyle \\frac{\\partial }{{\\partial t}}\\left( {\\rho T } \\right) + \\frac{\\partial }{{\\partial {x_j}}}\\left( {\\rho {u_j} T } \\right) = \\frac{\\partial }{{\\partial {x_j}}}\\left( {\\frac{k}{c_p} \\frac{{\\partial T }}{{\\partial {x_j}}}} \\right) + {S}\n",
    "$"
   ]
  },
  {
   "cell_type": "markdown",
   "metadata": {},
   "source": [
    "### Assumptions:\n",
    "- 1D\n",
    "- Solid\n",
    "- No source term\n",
    "- $\\rho$, $k$ and $c_p$ are constants\n",
    "- Steady state\n",
    "\n",
    "# $\n",
    "\\displaystyle \\frac{\\partial }{{\\partial {x}}}\\left( {\\frac{k}{c_p} \\frac{{\\partial T }}{{\\partial {x}}}} \\right) = 0\n",
    "$\n",
    "\n",
    "# $\n",
    "\\displaystyle \\frac{k}{c_p} \\frac{\\partial }{{\\partial {x}}}\\left( {\\frac{{\\partial T }}{{\\partial {x}}}} \\right) = 0\n",
    "$\n",
    "\n",
    "# $\n",
    "\\displaystyle \\frac{{{\\partial ^2}T}}{{\\partial {x^2}}} = 0\n",
    "$"
   ]
  },
  {
   "cell_type": "markdown",
   "metadata": {},
   "source": [
    "# Analytical Solution\n",
    "$\n",
    "\\displaystyle \\begin{array}{l}\n",
    "\\frac{{{\\partial ^2}T}}{{\\partial {x^2}}} = 0\\\\\n",
    "\\int_x^{} {\\left( {\\frac{{{\\partial ^2}T}}{{\\partial {x^2}}} = 0} \\right)} dx\\\\\n",
    "\\frac{{\\partial T}}{{\\partial x}} = A\\\\\n",
    "\\int_x^{} {\\left( {\\frac{{\\partial T}}{{\\partial x}} = A} \\right)} dx\\\\\n",
    "T = Ax + B\\\\\n",
    "T\\left( {x = 0} \\right) = {T_0}\\\\\n",
    "T\\left( {x = L} \\right) = {T_1}\\\\\n",
    "T\\left( {x = 0} \\right) = {T_0} = A0 + B \\to B = {T_0}\\\\\n",
    "T\\left( {x = L} \\right) = {T_1} = AL + {T_0} \\to A = \\frac{{{T_1} - {T_0}}}{L}\\\\\n",
    "\\end{array}\n",
    "$\n",
    "\n",
    "# $\\displaystyle T\\left( x \\right) = \\frac{{{T_1} - {T_0}}}{L}x + {T_0}$"
   ]
  },
  {
   "cell_type": "code",
   "execution_count": null,
   "metadata": {},
   "outputs": [],
   "source": []
  }
 ],
 "metadata": {
  "kernelspec": {
   "display_name": "Python 3",
   "language": "python",
   "name": "python3"
  },
  "language_info": {
   "codemirror_mode": {
    "name": "ipython",
    "version": 3
   },
   "file_extension": ".py",
   "mimetype": "text/x-python",
   "name": "python",
   "nbconvert_exporter": "python",
   "pygments_lexer": "ipython3",
   "version": "3.6.6"
  }
 },
 "nbformat": 4,
 "nbformat_minor": 2
}
