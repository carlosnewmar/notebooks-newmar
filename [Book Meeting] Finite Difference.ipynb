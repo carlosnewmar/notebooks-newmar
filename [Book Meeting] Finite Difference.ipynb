{
 "cells": [
  {
   "cell_type": "markdown",
   "metadata": {},
   "source": [
    "# Finite Difference"
   ]
  },
  {
   "cell_type": "markdown",
   "metadata": {},
   "source": [
    "## Taylor-series expansion"
   ]
  },
  {
   "cell_type": "markdown",
   "metadata": {},
   "source": [
    "$\n",
    "{\\phi _{i-1}} = {\\phi _{i}} - \\Delta x\\left( {\\frac{{d\\phi }}{{dx}}} \\right)_{i}^{} + \\frac{1}{2}{\\left( {\\Delta x} \\right)^2}\\left( {\\frac{{{d^2}\\phi }}{{d{x^2}}}} \\right)_{i}^{} - ...\\\\\n",
    "$\n",
    "\n",
    "$\n",
    "{\\phi _{i+1}} = {\\phi _{i}} + \\Delta x\\left( {\\frac{{d\\phi }}{{dx}}} \\right)_{i}^{} + \\frac{1}{2}{\\left( {\\Delta x} \\right)^2}\\left( {\\frac{{{d^2}\\phi }}{{d{x^2}}}} \\right)_{i}^{} + ...\n",
    "$"
   ]
  },
  {
   "cell_type": "markdown",
   "metadata": {},
   "source": [
    "Writing for the first order derivative,"
   ]
  },
  {
   "cell_type": "markdown",
   "metadata": {},
   "source": [
    "## $\\displaystyle {\\left( {\\frac{{d\\phi }}{{dx}}} \\right)_i} = \\frac{{{\\phi _i} - {\\phi _{i-1}}}}{{\\Delta x}}$\n",
    "\n",
    "## $\\displaystyle {\\left( {\\frac{{d\\phi }}{{dx}}} \\right)_i} = \\frac{{{\\phi _{i+1}} - {\\phi _i}}}{{\\Delta x}}$"
   ]
  },
  {
   "cell_type": "markdown",
   "metadata": {},
   "source": [
    "Subtracting the Taylor-series expansion, the first order derivative can be writen as"
   ]
  },
  {
   "cell_type": "markdown",
   "metadata": {},
   "source": [
    "## $\\displaystyle {\\left( {\\frac{{d\\phi }}{{dx}}} \\right)_i} = \\frac{{{\\phi _{i+1}} - {\\phi _{i-1}}}}{{2\\Delta x}}$"
   ]
  },
  {
   "cell_type": "markdown",
   "metadata": {},
   "source": [
    "Adding the Taylor-series expansion, the second order derivative can be written as"
   ]
  },
  {
   "cell_type": "markdown",
   "metadata": {},
   "source": [
    "## $\\displaystyle {\\left( {\\frac{{{d^2}\\phi }}{{d{x^2}}}} \\right)_2} = \\frac{{{\\phi _3} - 2{\\phi _2} + {\\phi _1}}}{{{{\\left( {\\Delta x} \\right)}^2}}} $"
   ]
  },
  {
   "cell_type": "markdown",
   "metadata": {},
   "source": [
    "## For the energy equation"
   ]
  },
  {
   "cell_type": "markdown",
   "metadata": {},
   "source": [
    "# $\n",
    "\\displaystyle \\frac{{{\\partial ^2}T}}{{\\partial {x^2}}} + S = 0\n",
    "$"
   ]
  },
  {
   "cell_type": "markdown",
   "metadata": {},
   "source": [
    "# $\\displaystyle \\frac{{{T_{i+1}} - 2{T_{i}} + {T_{i-1}}}}{{{{\\left( {\\Delta x} \\right)}^2}}} + S = 0 $"
   ]
  },
  {
   "cell_type": "markdown",
   "metadata": {},
   "source": [
    "## Assuming a uniform grid ($\\Delta x = cte$), 4 points, $T(x=0)=T_A$ and $T(x=L)=T_B$"
   ]
  },
  {
   "cell_type": "markdown",
   "metadata": {},
   "source": [
    "- point $0 \\to T_0 = T_A$\n",
    "\n",
    "- point $1 \\to \\displaystyle - T_2 + 2 T_1 - T_0 = S {\\Delta x}^2$\n",
    "\n",
    "- point $2 \\to \\displaystyle - T_3 + 2 T_2 - T_1 = S {\\Delta x}^20$\n",
    "\n",
    "- point $3 \\to T_3 = T_B$"
   ]
  },
  {
   "cell_type": "markdown",
   "metadata": {},
   "source": [
    "writing as a linear system $A x = b$"
   ]
  },
  {
   "cell_type": "markdown",
   "metadata": {},
   "source": [
    "$\n",
    "\\left[ {\\begin{array}{*{20}{c}}\n",
    "1&0&0&0\\\\\n",
    "{ - 1}&2&{ - 1}&0\\\\\n",
    "0&{ - 1}&2&{ - 1}\\\\\n",
    "0&0&0&1\n",
    "\\end{array}} \\right]\\left\\{ {\\begin{array}{*{20}{c}}\n",
    "{{T_0}}\\\\\n",
    "{{T_1}}\\\\\n",
    "{{T_2}}\\\\\n",
    "{{T_3}}\n",
    "\\end{array}} \\right\\} = \\left\\{ {\\begin{array}{*{20}{c}}\n",
    "{{T_A}}\\\\\n",
    "S {\\Delta x}^2\\\\\n",
    "S {\\Delta x}^2\\\\\n",
    "{{T_B}}\n",
    "\\end{array}} \\right\\}\n",
    "$"
   ]
  },
  {
   "cell_type": "code",
   "execution_count": 1,
   "metadata": {},
   "outputs": [],
   "source": [
    "import matplotlib.pyplot as plt\n",
    "import numpy as np"
   ]
  },
  {
   "cell_type": "code",
   "execution_count": 2,
   "metadata": {},
   "outputs": [
    {
     "data": {
      "image/png": "[encoded data removed]",
      "text/plain": [
       "<matplotlib.figure.Figure at 0x19ba3686ef0>"
      ]
     },
     "metadata": {
      "needs_background": "light"
     },
     "output_type": "display_data"
    }
   ],
   "source": [
    "N = 10\n",
    "L = 10.\n",
    "T0 = 100.\n",
    "T1 = 20.\n",
    "x_array = np.linspace(0., 1, N) * L\n",
    "A = (T1 - T0) / L\n",
    "B = T0\n",
    "analytical_solution = A * x_array + B\n",
    "plt.scatter(x_array, analytical_solution, color='black')\n",
    "\n",
    "from finite_difference import FiniteDifference\n",
    "for size in [4, 10, 20, 50, 100, 200]:\n",
    "    num_method = FiniteDifference(size)\n",
    "    num_method.AssemblyLinearSystem()\n",
    "    temp = num_method.Solve()\n",
    "    plt.plot(num_method._x, temp, label=str(size))\n",
    "plt.legend()\n",
    "plt.show()"
   ]
  },
  {
   "cell_type": "code",
   "execution_count": 7,
   "metadata": {},
   "outputs": [
    {
     "data": {
      "image/png": "[encoded data removed]",
      "text/plain": [
       "<matplotlib.figure.Figure at 0x19ba3d7c898>"
      ]
     },
     "metadata": {
      "needs_background": "light"
     },
     "output_type": "display_data"
    }
   ],
   "source": [
    "source_term = lambda x : 2.\n",
    "A = -1.\n",
    "B = (T1 - T0) / L + L\n",
    "C = T0\n",
    "analytical_solution = A * x_array * x_array + B * x_array + C\n",
    "\n",
    "plt.plot(x_array, analytical_solution, color='black')\n",
    "\n",
    "for size in [4, 10, 20]:\n",
    "    num_method = FiniteDifference(size, source_term)\n",
    "    num_method.AssemblyLinearSystem()\n",
    "    temp = num_method.Solve()\n",
    "    plt.scatter(num_method._x, temp, label=str(num_method._delta_x))\n",
    "plt.legend()\n",
    "plt.show()"
   ]
  },
  {
   "cell_type": "code",
   "execution_count": 8,
   "metadata": {},
   "outputs": [
    {
     "data": {
      "image/png": "[encoded data removed]",
      "text/plain": [
       "<matplotlib.figure.Figure at 0x19ba3dceef0>"
      ]
     },
     "metadata": {
      "needs_background": "light"
     },
     "output_type": "display_data"
    }
   ],
   "source": [
    "source_term = lambda x : 2 * x\n",
    "A = - 1. / 3.\n",
    "B = 0.\n",
    "C = (T1 - T0) / L + L * L / 3.\n",
    "D = T0\n",
    "analytical_solution = A * x_array * x_array * x_array + B * x_array * x_array + C * x_array + D\n",
    "\n",
    "plt.plot(x_array, analytical_solution, color='black')\n",
    "\n",
    "for size in [4, 10, 20]:\n",
    "    num_method = FiniteDifference(size, source_term)\n",
    "    num_method.AssemblyLinearSystem()\n",
    "    temp = num_method.Solve()\n",
    "    plt.scatter(num_method._x, temp, label=str(num_method._delta_x))\n",
    "plt.legend()\n",
    "plt.show()"
   ]
  },
  {
   "cell_type": "code",
   "execution_count": null,
   "metadata": {},
   "outputs": [],
   "source": []
  }
 ],
 "metadata": {
  "kernelspec": {
   "display_name": "Python 3",
   "language": "python",
   "name": "python3"
  },
  "language_info": {
   "codemirror_mode": {
    "name": "ipython",
    "version": 3
   },
   "file_extension": ".py",
   "mimetype": "text/x-python",
   "name": "python",
   "nbconvert_exporter": "python",
   "pygments_lexer": "ipython3",
   "version": "3.6.6"
  }
 },
 "nbformat": 4,
 "nbformat_minor": 2
}
